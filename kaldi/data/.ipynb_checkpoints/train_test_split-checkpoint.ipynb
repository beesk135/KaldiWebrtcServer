{
 "cells": [
  {
   "cell_type": "code",
   "execution_count": 64,
   "metadata": {},
   "outputs": [],
   "source": [
    "import os\n",
    "import pathlib\n",
    "import pandas as pd\n",
    "\n",
    "PATH = pathlib.Path().absolute()"
   ]
  },
  {
   "cell_type": "code",
   "execution_count": 65,
   "metadata": {},
   "outputs": [],
   "source": [
    "wavdir = os.path.join(PATH, 'waves')\n",
    "fileName = [f for f in os.listdir(wavdir)]"
   ]
  },
  {
   "cell_type": "code",
   "execution_count": 66,
   "metadata": {},
   "outputs": [],
   "source": [
    "data = {\n",
    "    'file_id': fileName,\n",
    "    'speaker_id': [name[1:11] for name in fileName],\n",
    "    'utt_id': [name[-8:-4] for name in fileName],\n",
    "    'gender': [name[0] for name in fileName]\n",
    "}\n",
    "\n",
    "df = pd.DataFrame (data, columns = ['file_id','speaker_id', 'utt_id','gender'])"
   ]
  },
  {
   "cell_type": "code",
   "execution_count": 67,
   "metadata": {},
   "outputs": [
    {
     "data": {
      "text/html": [
       "<div>\n",
       "<style scoped>\n",
       "    .dataframe tbody tr th:only-of-type {\n",
       "        vertical-align: middle;\n",
       "    }\n",
       "\n",
       "    .dataframe tbody tr th {\n",
       "        vertical-align: top;\n",
       "    }\n",
       "\n",
       "    .dataframe thead th {\n",
       "        text-align: right;\n",
       "    }\n",
       "</style>\n",
       "<table border=\"1\" class=\"dataframe\">\n",
       "  <thead>\n",
       "    <tr style=\"text-align: right;\">\n",
       "      <th></th>\n",
       "      <th>file_id</th>\n",
       "      <th>speaker_id</th>\n",
       "      <th>utt_id</th>\n",
       "      <th>gender</th>\n",
       "    </tr>\n",
       "  </thead>\n",
       "  <tbody>\n",
       "    <tr>\n",
       "      <th>0</th>\n",
       "      <td>M6031020321_0000.wav</td>\n",
       "      <td>6031020321</td>\n",
       "      <td>0000</td>\n",
       "      <td>M</td>\n",
       "    </tr>\n",
       "    <tr>\n",
       "      <th>1</th>\n",
       "      <td>M6031020321_0001.wav</td>\n",
       "      <td>6031020321</td>\n",
       "      <td>0001</td>\n",
       "      <td>M</td>\n",
       "    </tr>\n",
       "    <tr>\n",
       "      <th>2</th>\n",
       "      <td>M6031020321_0002.wav</td>\n",
       "      <td>6031020321</td>\n",
       "      <td>0002</td>\n",
       "      <td>M</td>\n",
       "    </tr>\n",
       "    <tr>\n",
       "      <th>3</th>\n",
       "      <td>M6031020321_0003.wav</td>\n",
       "      <td>6031020321</td>\n",
       "      <td>0003</td>\n",
       "      <td>M</td>\n",
       "    </tr>\n",
       "    <tr>\n",
       "      <th>4</th>\n",
       "      <td>M6031020321_0004.wav</td>\n",
       "      <td>6031020321</td>\n",
       "      <td>0004</td>\n",
       "      <td>M</td>\n",
       "    </tr>\n",
       "  </tbody>\n",
       "</table>\n",
       "</div>"
      ],
      "text/plain": [
       "                file_id  speaker_id utt_id gender\n",
       "0  M6031020321_0000.wav  6031020321   0000      M\n",
       "1  M6031020321_0001.wav  6031020321   0001      M\n",
       "2  M6031020321_0002.wav  6031020321   0002      M\n",
       "3  M6031020321_0003.wav  6031020321   0003      M\n",
       "4  M6031020321_0004.wav  6031020321   0004      M"
      ]
     },
     "execution_count": 67,
     "metadata": {},
     "output_type": "execute_result"
    }
   ],
   "source": [
    "df.head()"
   ]
  },
  {
   "cell_type": "code",
   "execution_count": 68,
   "metadata": {},
   "outputs": [],
   "source": [
    "#train_test_split\n",
    "from sklearn.model_selection import train_test_split\n",
    "X = df\n",
    "y = df['speaker_id']\n",
    "X_train, X_test, y_train, y_test = train_test_split(X, y, test_size=0.33, random_state=42)"
   ]
  },
  {
   "cell_type": "code",
   "execution_count": 70,
   "metadata": {},
   "outputs": [
    {
     "name": "stdout",
     "output_type": "stream",
     "text": [
      "directory existed\n"
     ]
    }
   ],
   "source": [
    "try:\n",
    "    os.makedirs('train')\n",
    "except:\n",
    "    print('directory existed')\n",
    "f = open(\"train/wav.scp\", \"w\")\n",
    "for l in range(0, X_train['file_id'].shape[0]):\n",
    "    f.write(X_train.iloc[l, :]['file_id'] + ' ' + 'waves/' + X_train.iloc[l, :]['file_id'] +'\\n')\n",
    "f.close()"
   ]
  },
  {
   "cell_type": "code",
   "execution_count": null,
   "metadata": {},
   "outputs": [],
   "source": []
  },
  {
   "cell_type": "code",
   "execution_count": null,
   "metadata": {},
   "outputs": [],
   "source": []
  }
 ],
 "metadata": {
  "kernelspec": {
   "display_name": "Python 3",
   "language": "python",
   "name": "python3"
  },
  "language_info": {
   "codemirror_mode": {
    "name": "ipython",
    "version": 3
   },
   "file_extension": ".py",
   "mimetype": "text/x-python",
   "name": "python",
   "nbconvert_exporter": "python",
   "pygments_lexer": "ipython3",
   "version": "3.7.6"
  }
 },
 "nbformat": 4,
 "nbformat_minor": 4
}
